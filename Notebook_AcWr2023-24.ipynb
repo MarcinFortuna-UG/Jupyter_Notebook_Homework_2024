{
 "cells": [
  {
   "cell_type": "markdown",
   "metadata": {},
   "source": [
    "# Hello from a Jupyter doc! :D"
   ]
  },
  {
   "cell_type": "markdown",
   "metadata": {},
   "source": [
    "Hello *hello* __hello__"
   ]
  },
  {
   "cell_type": "markdown",
   "metadata": {},
   "source": [
    "*Jupyter Notebook* is an interactive environment in which I can write beautiful text in Markdown and run Python code."
   ]
  },
  {
   "cell_type": "code",
   "execution_count": 1,
   "metadata": {},
   "outputs": [
    {
     "data": {
      "text/plain": [
       "4"
      ]
     },
     "execution_count": 1,
     "metadata": {},
     "output_type": "execute_result"
    }
   ],
   "source": [
    "2 + 2"
   ]
  },
  {
   "cell_type": "code",
   "execution_count": 2,
   "metadata": {},
   "outputs": [
    {
     "data": {
      "text/plain": [
       "23"
      ]
     },
     "execution_count": 2,
     "metadata": {},
     "output_type": "execute_result"
    }
   ],
   "source": [
    "4 * 5 + 3"
   ]
  },
  {
   "cell_type": "code",
   "execution_count": 3,
   "metadata": {},
   "outputs": [],
   "source": [
    "import math"
   ]
  },
  {
   "cell_type": "code",
   "execution_count": 4,
   "metadata": {},
   "outputs": [
    {
     "data": {
      "text/plain": [
       "3.141592653589793"
      ]
     },
     "execution_count": 4,
     "metadata": {},
     "output_type": "execute_result"
    }
   ],
   "source": [
    "math.pi"
   ]
  },
  {
   "cell_type": "markdown",
   "metadata": {},
   "source": [
    "## Area of a circle"
   ]
  },
  {
   "cell_type": "markdown",
   "metadata": {},
   "source": [
    "This is how you can calculate the area of a circle using Python. The formula is $\\pi r^2$. I'm writing this using $\\LaTeX$ syntax :D"
   ]
  },
  {
   "cell_type": "code",
   "execution_count": 5,
   "metadata": {},
   "outputs": [],
   "source": [
    "def area_circle(r):\n",
    "    return math.pi * r ** 2"
   ]
  },
  {
   "cell_type": "code",
   "execution_count": 6,
   "metadata": {},
   "outputs": [
    {
     "data": {
      "text/plain": [
       "3.141592653589793"
      ]
     },
     "execution_count": 6,
     "metadata": {},
     "output_type": "execute_result"
    }
   ],
   "source": [
    "area_circle(1)"
   ]
  },
  {
   "cell_type": "code",
   "execution_count": 7,
   "metadata": {},
   "outputs": [
    {
     "data": {
      "text/plain": [
       "12.566370614359172"
      ]
     },
     "execution_count": 7,
     "metadata": {},
     "output_type": "execute_result"
    }
   ],
   "source": [
    "area_circle(2)"
   ]
  },
  {
   "cell_type": "markdown",
   "metadata": {},
   "source": [
    "$\\frac{1}{2} + \\frac{1}{3} = \\frac{5}{6}$"
   ]
  },
  {
   "cell_type": "markdown",
   "metadata": {},
   "source": [
    "<p>This a paragraph written in <span style=\"font-size:large;color:green\">HTML</span> :D</p>"
   ]
  },
  {
   "cell_type": "markdown",
   "metadata": {},
   "source": [
    "# What else can I do with Jupyter Notebooks?"
   ]
  },
  {
   "cell_type": "markdown",
   "metadata": {},
   "source": [
    "<img src=\"https://images.unsplash.com/photo-1716080192370-1f1ab8f1dfc5?q=80&w=1965&auto=format&fit=crop&ixlib=rb-4.0.3&ixid=M3wxMjA3fDB8MHxwaG90by1wYWdlfHx8fGVufDB8fHx8fA%3D%3D\" />"
   ]
  },
  {
   "cell_type": "markdown",
   "metadata": {},
   "source": [
    "Let's carry out a basic linguistics analysis of some data scraped from the Internet using Python and NLTK :) "
   ]
  },
  {
   "cell_type": "code",
   "execution_count": 8,
   "metadata": {},
   "outputs": [],
   "source": [
    "import requests"
   ]
  },
  {
   "cell_type": "code",
   "execution_count": 9,
   "metadata": {},
   "outputs": [],
   "source": [
    "page = requests.get(\"https://en.ug.edu.pl/\")\n",
    "# print(page.content)"
   ]
  },
  {
   "cell_type": "code",
   "execution_count": 10,
   "metadata": {},
   "outputs": [],
   "source": [
    "from bs4 import BeautifulSoup\n",
    "soup = BeautifulSoup(page.content, 'html.parser')\n",
    "# soup"
   ]
  },
  {
   "cell_type": "code",
   "execution_count": 11,
   "metadata": {},
   "outputs": [],
   "source": [
    "paras = soup.find_all('p')\n",
    "# print(paras)"
   ]
  },
  {
   "cell_type": "code",
   "execution_count": 12,
   "metadata": {
    "scrolled": true
   },
   "outputs": [
    {
     "name": "stdout",
     "output_type": "stream",
     "text": [
      "['The University of Gdańsk achieved a historic victory at the Polish Academic Sailing Championships, taking first place in both the general classification and the university classification! The competition was held from…', \"The University of Gdańsk's ship r/v Oceanograf will once again sail beyond the Baltic Sea, this time on an expedition of more than a month to the Arctic Circle. Also involved in the BaltArctic Research Cruise is the…\", 'For three days, participants in the NORIFEST Festival of Asian Culture were able to experience the culture of East Asia. It was organised by the Academic Culture Centre ALTERNATOR.\\n\\xa0\\nThe…', 'On Monday, June 3, we start the recruitment for studies at the University of Gdańsk. The IRK (Internet Recruitment of Candidates) system will be launched, where all candidates -…', \"The reissue of the novel 'The Kashubian Madonna', a meeting in Professor Jerzy Limon's library at the Gdańsk Shakespeare Theatre, and exceptional performances - the LIMONiada, a series of…\", 'The academic platform for scientists Research.com has published the latest ranking of the best researchers in the field of molecular biology. Prof. dr hab. Grzegorz Węgrzyn from the…', 'General and historical information about the authorities as well as a guide to the University - a map and a virtual walk.', 'Information about scientific research, conferences, seminars and trips abroad, scholarships, awards. More information about Human Resources Strategy for Researchers.', \"We invite you to bachelor's and master's degrees, postgraduate studies, and doctoral schools. More information on why it is worth studying at the University and Erasmus+\", 'Basic information about practical aspects of studying in Poland and at the University of Gdańsk. Here we also offer courses, training and summer schools, culture and sport.', 'Information about international, inter-university, and socio-economic cooperation, which is conducted as part of such projects.', 'SEA-EU is an alliance of 9 European and coastal universities from Gdańsk, Cadiz, Brest, Kiel, Split, Malta,\\xa0Algarve, Naples oraz Bodø . Our vision is to establish a distinctly international, pluri-ethnic, multilingual and interdisciplinary European University.', '0', 'Students', '0', 'Educators', '0', 'Faculties / International Research Agendas', '0', 'Subjects BrE.', 'ul. Jana Bażyńskiego 8, 80-309 Gdańsk', 'NIP: 584-020-32-39\\nREGON: 000001330', 'reception phone number:\\n+ 48 58 523 30 00', 'bank account numbers']\n"
     ]
    }
   ],
   "source": [
    "only_text = []\n",
    "\n",
    "for el in paras:\n",
    "    if len(el.getText().strip()) > 0:\n",
    "        only_text.append(el.getText())\n",
    "        \n",
    "print(only_text)"
   ]
  },
  {
   "cell_type": "code",
   "execution_count": 13,
   "metadata": {},
   "outputs": [],
   "source": [
    "import nltk"
   ]
  },
  {
   "cell_type": "code",
   "execution_count": 14,
   "metadata": {},
   "outputs": [
    {
     "data": {
      "text/plain": [
       "['This', 'is', 'a', 'test', 'sentence', '.']"
      ]
     },
     "execution_count": 14,
     "metadata": {},
     "output_type": "execute_result"
    }
   ],
   "source": [
    "nltk.word_tokenize(\"This is a test sentence.\")"
   ]
  },
  {
   "cell_type": "code",
   "execution_count": 15,
   "metadata": {},
   "outputs": [
    {
     "data": {
      "text/plain": [
       "[('This', 'DT'),\n",
       " ('is', 'VBZ'),\n",
       " ('a', 'DT'),\n",
       " ('test', 'NN'),\n",
       " ('sentence', 'NN'),\n",
       " ('.', '.')]"
      ]
     },
     "execution_count": 15,
     "metadata": {},
     "output_type": "execute_result"
    }
   ],
   "source": [
    "nltk.pos_tag([\"This\", \"is\", \"a\", \"test\", \"sentence\", \".\"])"
   ]
  },
  {
   "cell_type": "code",
   "execution_count": 16,
   "metadata": {},
   "outputs": [],
   "source": [
    "tuples = []\n",
    "\n",
    "for sentence in only_text:\n",
    "    tokens = nltk.word_tokenize(sentence)\n",
    "    pos_tagged = nltk.pos_tag(tokens)\n",
    "    for item in pos_tagged:\n",
    "        tuples.append(item)\n",
    "\n",
    "# print(tuples)"
   ]
  },
  {
   "cell_type": "code",
   "execution_count": 17,
   "metadata": {},
   "outputs": [
    {
     "name": "stdout",
     "output_type": "stream",
     "text": [
      "{'DT': 39, 'NNP': 74, 'IN': 44, 'VBD': 4, 'JJ': 31, 'NN': 56, ',': 30, 'VBG': 3, 'CC': 15, '.': 18, 'VBN': 6, 'POS': 6, 'MD': 2, 'RB': 9, 'JJR': 3, 'TO': 5, 'VBZ': 7, 'CD': 15, 'NNS': 26, 'VB': 4, 'PRP': 6, 'VBP': 5, '(': 1, ')': 1, 'WRB': 2, ':': 5, 'JJS': 2, 'NNPS': 1, 'WDT': 1, 'PRP$': 1}\n"
     ]
    }
   ],
   "source": [
    "counter_dict = {}\n",
    "\n",
    "for el in tuples:\n",
    "    tag = el[1]\n",
    "    if not tag in counter_dict:\n",
    "        counter_dict[tag] = 1\n",
    "    else:\n",
    "        counter_dict[tag] += 1\n",
    "        \n",
    "print(counter_dict)"
   ]
  },
  {
   "cell_type": "code",
   "execution_count": 18,
   "metadata": {},
   "outputs": [],
   "source": [
    "import matplotlib.pyplot as plt"
   ]
  },
  {
   "cell_type": "code",
   "execution_count": 19,
   "metadata": {},
   "outputs": [
    {
     "name": "stdout",
     "output_type": "stream",
     "text": [
      "['DT', 'NNP', 'IN', 'VBD', 'JJ', 'NN', ',', 'VBG', 'CC', '.', 'VBN', 'POS', 'MD', 'RB', 'JJR', 'TO', 'VBZ', 'CD', 'NNS', 'VB', 'PRP', 'VBP', '(', ')', 'WRB', ':', 'JJS', 'NNPS', 'WDT', 'PRP$']\n",
      "[39, 74, 44, 4, 31, 56, 30, 3, 15, 18, 6, 6, 2, 9, 3, 5, 7, 15, 26, 4, 6, 5, 1, 1, 2, 5, 2, 1, 1, 1]\n"
     ]
    }
   ],
   "source": [
    "keys = []\n",
    "values = []\n",
    "for el in counter_dict:\n",
    "    keys.append(el)\n",
    "    values.append(counter_dict[el])\n",
    "    \n",
    "print(keys)\n",
    "print(values)"
   ]
  },
  {
   "cell_type": "code",
   "execution_count": 20,
   "metadata": {},
   "outputs": [
    {
     "data": {
      "text/plain": [
       "<BarContainer object of 8 artists>"
      ]
     },
     "execution_count": 20,
     "metadata": {},
     "output_type": "execute_result"
    },
    {
     "data": {
      "image/png": "[encoded data removed]",
      "text/plain": [
       "<Figure size 432x288 with 1 Axes>"
      ]
     },
     "metadata": {
      "needs_background": "light"
     },
     "output_type": "display_data"
    }
   ],
   "source": [
    "plt.bar(keys[0:8], values[0:8], color = \"pink\")"
   ]
  },
  {
   "cell_type": "code",
   "execution_count": 21,
   "metadata": {},
   "outputs": [
    {
     "data": {
      "text/plain": [
       "([<matplotlib.patches.Wedge at 0x1b7849b9f98>,\n",
       "  <matplotlib.patches.Wedge at 0x1b7849c2400>,\n",
       "  <matplotlib.patches.Wedge at 0x1b7849c28d0>,\n",
       "  <matplotlib.patches.Wedge at 0x1b7849c2da0>,\n",
       "  <matplotlib.patches.Wedge at 0x1b7849cd2b0>,\n",
       "  <matplotlib.patches.Wedge at 0x1b7849cd780>,\n",
       "  <matplotlib.patches.Wedge at 0x1b7849cdc50>,\n",
       "  <matplotlib.patches.Wedge at 0x1b7849d8160>],\n",
       " [Text(0.99708288113441, 0.4645704770524105, 'DT'),\n",
       "  Text(-0.14103824096697637, 1.090920810409693, 'NNP'),\n",
       "  Text(-1.0916921635613723, 0.13493783760935998, 'IN'),\n",
       "  Text(-1.0072206169835043, -0.44216131527234415, 'VBD'),\n",
       "  Text(-0.7624515089727714, -0.7928856767940408, 'JJ'),\n",
       "  Text(0.22589521589236325, -1.0765553174068403, 'NN'),\n",
       "  Text(1.0121009270590358, -0.43087319880243236, ','),\n",
       "  Text(1.0993813391075709, -0.036887277238156, 'VBG')])"
      ]
     },
     "execution_count": 21,
     "metadata": {},
     "output_type": "execute_result"
    },
    {
     "data": {
      "image/png": "[encoded data removed]",
      "text/plain": [
       "<Figure size 432x288 with 1 Axes>"
      ]
     },
     "metadata": {},
     "output_type": "display_data"
    }
   ],
   "source": [
    "plt.pie(values[0:8], labels=keys[0:8])"
   ]
  },
  {
   "cell_type": "markdown",
   "metadata": {},
   "source": [
    "Here you may add some statisical analysis (e.g. how many nouns were recognized, how many adjectives etc. You can also add some graphs/charts to show your stats. The more complex you make it, the better!"
   ]
  },
  {
   "cell_type": "markdown",
   "metadata": {},
   "source": [
    "Write an *interactive linguistic essay* - use Beautiful Soup to scrape text from a website and NLTK to carry out some basic linguistic analysis. Make sure that you're using as many features of the Notebook as possible, so advanced Markdown is welcome. I don't expect very advanced Python - it can be very basic, but I want you to learn how to use the Jupyter Notebook! Of course, it would be awesome if you could learn more NLTK and do some deeper research, visualizing the stats with matplotlib etc. Decide yourself how much effort you want to put into this - remember that it will be part of your portfolio!\n",
    "\n",
    "The language you're using is also relevant, I will grade your English too ;)"
   ]
  },
  {
   "cell_type": "code",
   "execution_count": null,
   "metadata": {},
   "outputs": [],
   "source": []
  }
 ],
 "metadata": {
  "kernelspec": {
   "display_name": "Python 3",
   "language": "python",
   "name": "python3"
  },
  "language_info": {
   "codemirror_mode": {
    "name": "ipython",
    "version": 3
   },
   "file_extension": ".py",
   "mimetype": "text/x-python",
   "name": "python",
   "nbconvert_exporter": "python",
   "pygments_lexer": "ipython3",
   "version": "3.7.1"
  }
 },
 "nbformat": 4,
 "nbformat_minor": 2
}
